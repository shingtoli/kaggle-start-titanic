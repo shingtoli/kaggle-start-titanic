{
 "cells": [
  {
   "cell_type": "code",
   "execution_count": 1,
   "metadata": {},
   "outputs": [],
   "source": [
    "import re\n",
    "import numpy as np\n",
    "import matplotlib.pyplot as plt\n",
    "from jupyterthemes import jtplot\n",
    "import pandas as pd\n",
    "from sklearn.feature_selection import SelectKBest\n",
    "from sklearn.feature_selection import chi2\n",
    "\n",
    "# Support JupyterThemes\n",
    "jtplot.style()\n",
    "\n",
    "import warnings\n",
    "warnings.filterwarnings('ignore')"
   ]
  },
  {
   "cell_type": "code",
   "execution_count": 2,
   "metadata": {},
   "outputs": [],
   "source": [
    "dataset = pd.read_csv(\"./input/train.csv\")\n",
    "survived = dataset[dataset['Survived'] == 1]\n",
    "passing = dataset[dataset['Survived'] == 0]"
   ]
  },
  {
   "cell_type": "code",
   "execution_count": 3,
   "metadata": {},
   "outputs": [
    {
     "name": "stdout",
     "output_type": "stream",
     "text": [
      "Percentage of Class 1 that survived: 63.0 %\n",
      "Percentage of Class 2 that survived: 47.0 %\n",
      "Percentage of Class 3 that survived: 24.0 %\n"
     ]
    },
    {
     "data": {
      "text/html": [
       "<div>\n",
       "<style scoped>\n",
       "    .dataframe tbody tr th:only-of-type {\n",
       "        vertical-align: middle;\n",
       "    }\n",
       "\n",
       "    .dataframe tbody tr th {\n",
       "        vertical-align: top;\n",
       "    }\n",
       "\n",
       "    .dataframe thead th {\n",
       "        text-align: right;\n",
       "    }\n",
       "</style>\n",
       "<table border=\"1\" class=\"dataframe\">\n",
       "  <thead>\n",
       "    <tr style=\"text-align: right;\">\n",
       "      <th></th>\n",
       "      <th>1</th>\n",
       "      <th>2</th>\n",
       "      <th>3</th>\n",
       "    </tr>\n",
       "  </thead>\n",
       "  <tbody>\n",
       "    <tr>\n",
       "      <th>Survived</th>\n",
       "      <td>136</td>\n",
       "      <td>87</td>\n",
       "      <td>119</td>\n",
       "    </tr>\n",
       "    <tr>\n",
       "      <th>Died</th>\n",
       "      <td>80</td>\n",
       "      <td>97</td>\n",
       "      <td>372</td>\n",
       "    </tr>\n",
       "  </tbody>\n",
       "</table>\n",
       "</div>"
      ],
      "text/plain": [
       "            1   2    3\n",
       "Survived  136  87  119\n",
       "Died       80  97  372"
      ]
     },
     "metadata": {},
     "output_type": "display_data"
    },
    {
     "data": {
      "image/png": "[encoded data removed]",
      "text/plain": [
       "<Figure size 360x216 with 1 Axes>"
      ]
     },
     "metadata": {
      "needs_background": "dark"
     },
     "output_type": "display_data"
    }
   ],
   "source": [
    "%matplotlib inline\n",
    "\n",
    "#-------------------Survived/Died by Class -------------------------------------\n",
    "survived_class = survived['Pclass'].value_counts()\n",
    "dead_class = passing['Pclass'].value_counts()\n",
    "df_class = pd.DataFrame([survived_class,dead_class])\n",
    "df_class.index = ['Survived','Died']\n",
    "df_class.plot(kind='bar',stacked=True, figsize=(5,3), title=\"Survived/Died by Class\")\n",
    "\n",
    "Class1_survived= df_class.iloc[0,0]/df_class.iloc[:,0].sum()*100\n",
    "Class2_survived = df_class.iloc[0,1]/df_class.iloc[:,1].sum()*100\n",
    "Class3_survived = df_class.iloc[0,2]/df_class.iloc[:,2].sum()*100\n",
    "print(\"Percentage of Class 1 that survived:\" ,round(Class1_survived),\"%\")\n",
    "print(\"Percentage of Class 2 that survived:\" ,round(Class2_survived), \"%\")\n",
    "print(\"Percentage of Class 3 that survived:\" ,round(Class3_survived), \"%\")\n",
    "\n",
    "# display table\n",
    "from IPython.display import display\n",
    "display(df_class)"
   ]
  },
  {
   "cell_type": "code",
   "execution_count": 4,
   "metadata": {
    "scrolled": true
   },
   "outputs": [
    {
     "name": "stdout",
     "output_type": "stream",
     "text": [
      "Male:  19.0 %\n",
      "Female:  74.0 %\n"
     ]
    },
    {
     "data": {
      "text/html": [
       "<div>\n",
       "<style scoped>\n",
       "    .dataframe tbody tr th:only-of-type {\n",
       "        vertical-align: middle;\n",
       "    }\n",
       "\n",
       "    .dataframe tbody tr th {\n",
       "        vertical-align: top;\n",
       "    }\n",
       "\n",
       "    .dataframe thead th {\n",
       "        text-align: right;\n",
       "    }\n",
       "</style>\n",
       "<table border=\"1\" class=\"dataframe\">\n",
       "  <thead>\n",
       "    <tr style=\"text-align: right;\">\n",
       "      <th></th>\n",
       "      <th>female</th>\n",
       "      <th>male</th>\n",
       "    </tr>\n",
       "  </thead>\n",
       "  <tbody>\n",
       "    <tr>\n",
       "      <th>Survived</th>\n",
       "      <td>233</td>\n",
       "      <td>109</td>\n",
       "    </tr>\n",
       "    <tr>\n",
       "      <th>Passed</th>\n",
       "      <td>81</td>\n",
       "      <td>468</td>\n",
       "    </tr>\n",
       "  </tbody>\n",
       "</table>\n",
       "</div>"
      ],
      "text/plain": [
       "          female  male\n",
       "Survived     233   109\n",
       "Passed        81   468"
      ]
     },
     "metadata": {},
     "output_type": "display_data"
    },
    {
     "data": {
      "image/png": "[encoded data removed]",
      "text/plain": [
       "<Figure size 360x216 with 1 Axes>"
      ]
     },
     "metadata": {
      "needs_background": "dark"
     },
     "output_type": "display_data"
    }
   ],
   "source": [
    "survived_gender = survived['Sex'].value_counts()\n",
    "passing_gender = passing['Sex'].value_counts()\n",
    "\n",
    "df_gender = pd.DataFrame([survived_gender, passing_gender])\n",
    "df_gender.index = ['Survived', 'Passed']\n",
    "df_gender.plot(kind='bar', stacked=True, figsize=(5,3), title=\"Suvived/Passed by Gender\")\n",
    "\n",
    "male_survival = df_gender.iloc[0, 1] / df_gender.iloc[:, 1].sum() * 100\n",
    "female_survival = df_gender.iloc[0, 0] / df_gender.iloc[:, 0].sum() * 100\n",
    "\n",
    "print(\"Male: \", round(male_survival), \"%\")\n",
    "print(\"Female: \", round(female_survival), \"%\")\n",
    "\n",
    "display(df_gender)"
   ]
  },
  {
   "cell_type": "code",
   "execution_count": 16,
   "metadata": {},
   "outputs": [
    {
     "data": {
      "text/plain": [
       "Salutation\n",
       "Col.         58.0\n",
       "Countess.    33.0\n",
       "Don.         40.0\n",
       "Dr.          42.0\n",
       "Jonkheer.    38.0\n",
       "Lady.        48.0\n",
       "Major.       48.0\n",
       "Master.       5.0\n",
       "Miss.        22.0\n",
       "Mlle.        24.0\n",
       "Mme.         24.0\n",
       "Mr.          33.0\n",
       "Mrs.         36.0\n",
       "Ms.          28.0\n",
       "Rev.         41.0\n",
       "Sir.         49.0\n",
       "Name: Age, dtype: float64"
      ]
     },
     "metadata": {},
     "output_type": "display_data"
    }
   ],
   "source": [
    "def developFeatures( inputset ):\n",
    "    inputset['Salutation'] = inputset['Name'].apply(lambda x: re.search('[A-Z][a-z]*\\.|$', x).group(0)).astype('category')\n",
    "    inputset['Sex'] = inputset['Sex'].astype('category')\n",
    "    inputset['Embarked'] = inputset['Embarked'].interpolate(method='pad').astype('category')\n",
    "    return inputset\n",
    "\n",
    "dataset = developFeatures(dataset)\n",
    "ages = round(dataset.groupby(['Salutation'])['Age'].mean())\n",
    "display(ages)"
   ]
  },
  {
   "cell_type": "code",
   "execution_count": 17,
   "metadata": {},
   "outputs": [
    {
     "name": "stdout",
     "output_type": "stream",
     "text": [
      "                       Sex\n",
      "Sex    Survived           \n",
      "female 0          7.163743\n",
      "       1         34.064327\n",
      "male   0         42.836257\n",
      "       1         15.935673\n"
     ]
    }
   ],
   "source": [
    "def fillEstimatedAge( inputset ):\n",
    "    inputset['Age'] = inputset.apply(lambda row: ages[row['Salutation']] if np.isnan(row['Age']) else row['Age'], axis=1)\n",
    "    return inputset\n",
    "\n",
    "dataset = fillEstimatedAge(dataset)\n",
    "\n",
    "survival = dataset.groupby(['Survived'])\n",
    "survival_by_gender = dataset.groupby(['Sex', 'Survived']).agg({'Sex': 'count'})\n",
    "percentages = survival_by_gender.apply(lambda x: 100 * x / float(x.sum()))\n",
    "print(percentages)"
   ]
  },
  {
   "cell_type": "code",
   "execution_count": 18,
   "metadata": {},
   "outputs": [
    {
     "name": "stdout",
     "output_type": "stream",
     "text": [
      "Balancing = Survived: 0.50, Passed: 0.50\n"
     ]
    }
   ],
   "source": [
    "# Balance Data\n",
    "passed, survived = dataset.groupby(['Survived'])\n",
    "\n",
    "sample_passed = passed[1].sample(len(survived[1].index))\n",
    "\n",
    "dataset = sample_passed.append(survived[1])\n",
    "\n",
    "print('Balancing = Survived: %0.2f, Passed: %0.2f' % (len(survived[1].index) / len(dataset.index), len(sample_passed.index) / len(dataset.index)))"
   ]
  },
  {
   "cell_type": "code",
   "execution_count": 19,
   "metadata": {},
   "outputs": [
    {
     "data": {
      "text/html": [
       "<div>\n",
       "<style scoped>\n",
       "    .dataframe tbody tr th:only-of-type {\n",
       "        vertical-align: middle;\n",
       "    }\n",
       "\n",
       "    .dataframe tbody tr th {\n",
       "        vertical-align: top;\n",
       "    }\n",
       "\n",
       "    .dataframe thead th {\n",
       "        text-align: right;\n",
       "    }\n",
       "</style>\n",
       "<table border=\"1\" class=\"dataframe\">\n",
       "  <thead>\n",
       "    <tr style=\"text-align: right;\">\n",
       "      <th></th>\n",
       "      <th>Feature</th>\n",
       "      <th>Score</th>\n",
       "    </tr>\n",
       "  </thead>\n",
       "  <tbody>\n",
       "    <tr>\n",
       "      <th>5</th>\n",
       "      <td>Fare</td>\n",
       "      <td>2908.886012</td>\n",
       "    </tr>\n",
       "    <tr>\n",
       "      <th>1</th>\n",
       "      <td>Sex</td>\n",
       "      <td>84.218905</td>\n",
       "    </tr>\n",
       "    <tr>\n",
       "      <th>0</th>\n",
       "      <td>Pclass</td>\n",
       "      <td>24.869196</td>\n",
       "    </tr>\n",
       "    <tr>\n",
       "      <th>2</th>\n",
       "      <td>Age</td>\n",
       "      <td>23.789000</td>\n",
       "    </tr>\n",
       "    <tr>\n",
       "      <th>6</th>\n",
       "      <td>Embarked</td>\n",
       "      <td>11.236994</td>\n",
       "    </tr>\n",
       "    <tr>\n",
       "      <th>7</th>\n",
       "      <td>Salutation</td>\n",
       "      <td>7.869111</td>\n",
       "    </tr>\n",
       "    <tr>\n",
       "      <th>4</th>\n",
       "      <td>Parch</td>\n",
       "      <td>6.391304</td>\n",
       "    </tr>\n",
       "    <tr>\n",
       "      <th>3</th>\n",
       "      <td>SibSp</td>\n",
       "      <td>5.954178</td>\n",
       "    </tr>\n",
       "  </tbody>\n",
       "</table>\n",
       "</div>"
      ],
      "text/plain": [
       "      Feature        Score\n",
       "5        Fare  2908.886012\n",
       "1         Sex    84.218905\n",
       "0      Pclass    24.869196\n",
       "2         Age    23.789000\n",
       "6    Embarked    11.236994\n",
       "7  Salutation     7.869111\n",
       "4       Parch     6.391304\n",
       "3       SibSp     5.954178"
      ]
     },
     "metadata": {},
     "output_type": "display_data"
    },
    {
     "data": {
      "text/plain": [
       "array(['Fare', 'Sex', 'Pclass', 'Age'], dtype=object)"
      ]
     },
     "metadata": {},
     "output_type": "display_data"
    }
   ],
   "source": [
    "# Remove problematic columns for now\n",
    "X = dataset.drop(columns=['Name', 'Ticket', 'Cabin']).iloc[:, 2:]\n",
    "y = dataset.iloc[:, 1]\n",
    "\n",
    "# Convert categories to numbers\n",
    "def prepareNominalValues( inputset ):   \n",
    "    categories = inputset.select_dtypes(['category']).columns\n",
    "    inputset[categories] = inputset[categories].apply(lambda x: x.cat.codes)\n",
    "    return inputset\n",
    "\n",
    "X = prepareNominalValues(X)\n",
    "\n",
    "# Select Best Features\n",
    "selector = SelectKBest(score_func=chi2, k=4)\n",
    "X_r = selector.fit_transform(X, y)\n",
    "\n",
    "featList = pd.concat([pd.DataFrame(X.columns), pd.DataFrame(selector.scores_)], axis=1)\n",
    "featList.columns = ['Feature', 'Score']\n",
    "\n",
    "featuresSortedByScore = featList.sort_values(by='Score', ascending=False)\n",
    "display(featuresSortedByScore)\n",
    "\n",
    "topFeats = featuresSortedByScore.iloc[:4, 0].values\n",
    "display(topFeats);"
   ]
  },
  {
   "cell_type": "code",
   "execution_count": 20,
   "metadata": {},
   "outputs": [
    {
     "data": {
      "text/plain": [
       "'Accuracy: 0.77 (+/- 0.10)'"
      ]
     },
     "metadata": {},
     "output_type": "display_data"
    }
   ],
   "source": [
    "from sklearn.model_selection import cross_val_score\n",
    "from sklearn.naive_bayes import GaussianNB\n",
    "\n",
    "# Create Classifier Instance\n",
    "gnb = GaussianNB()\n",
    "gnb.fit(X=X_r, y=y)\n",
    "\n",
    "gnb_scores = cross_val_score(gnb, X_r, y, cv=10)\n",
    "display(\"Accuracy: %0.2f (+/- %0.2f)\" % (gnb_scores.mean(), gnb_scores.std() * 2))"
   ]
  },
  {
   "cell_type": "code",
   "execution_count": 60,
   "metadata": {},
   "outputs": [
    {
     "data": {
      "text/plain": [
       "'Accuracy: 0.78 (+/- 0.12)'"
      ]
     },
     "metadata": {},
     "output_type": "display_data"
    },
    {
     "data": {
      "image/svg+xml": [
       "<svg height=\"373pt\" viewBox=\"0.00 0.00 552.50 373.00\" width=\"553pt\" xmlns=\"http://www.w3.org/2000/svg\" xmlns:xlink=\"http://www.w3.org/1999/xlink\">\n",
       "<g class=\"graph\" id=\"graph0\" transform=\"scale(1 1) rotate(0) translate(4 369)\">\n",
       "<title>Tree</title>\n",
       "<polygon fill=\"#ffffff\" points=\"-4,4 -4,-369 548.5,-369 548.5,4 -4,4\" stroke=\"transparent\"/>\n",
       "<!-- 0 -->\n",
       "<g class=\"node\" id=\"node1\">\n",
       "<title>0</title>\n",
       "<polygon fill=\"transparent\" points=\"302,-365 182,-365 182,-297 302,-297 302,-365\" stroke=\"#000000\"/>\n",
       "<text fill=\"#000000\" font-family=\"Times,serif\" font-size=\"14.00\" text-anchor=\"middle\" x=\"242\" y=\"-349.8\">Sex &lt;= 0.5</text>\n",
       "<text fill=\"#000000\" font-family=\"Times,serif\" font-size=\"14.00\" text-anchor=\"middle\" x=\"242\" y=\"-334.8\">gini = 0.5</text>\n",
       "<text fill=\"#000000\" font-family=\"Times,serif\" font-size=\"14.00\" text-anchor=\"middle\" x=\"242\" y=\"-319.8\">samples = 684</text>\n",
       "<text fill=\"#000000\" font-family=\"Times,serif\" font-size=\"14.00\" text-anchor=\"middle\" x=\"242\" y=\"-304.8\">value = [342, 342]</text>\n",
       "</g>\n",
       "<!-- 1 -->\n",
       "<g class=\"node\" id=\"node2\">\n",
       "<title>1</title>\n",
       "<polygon fill=\"#399de5\" fill-opacity=\"0.788235\" points=\"231.5,-261 118.5,-261 118.5,-193 231.5,-193 231.5,-261\" stroke=\"#000000\"/>\n",
       "<text fill=\"#000000\" font-family=\"Times,serif\" font-size=\"14.00\" text-anchor=\"middle\" x=\"175\" y=\"-245.8\">Fare &lt;= 2.5</text>\n",
       "<text fill=\"#000000\" font-family=\"Times,serif\" font-size=\"14.00\" text-anchor=\"middle\" x=\"175\" y=\"-230.8\">gini = 0.287</text>\n",
       "<text fill=\"#000000\" font-family=\"Times,serif\" font-size=\"14.00\" text-anchor=\"middle\" x=\"175\" y=\"-215.8\">samples = 282</text>\n",
       "<text fill=\"#000000\" font-family=\"Times,serif\" font-size=\"14.00\" text-anchor=\"middle\" x=\"175\" y=\"-200.8\">value = [49, 233]</text>\n",
       "</g>\n",
       "<!-- 0&#45;&gt;1 -->\n",
       "<g class=\"edge\" id=\"edge1\">\n",
       "<title>0-&gt;1</title>\n",
       "<path d=\"M220.0617,-296.9465C214.451,-288.2373 208.3471,-278.7626 202.4958,-269.6801\" fill=\"none\" stroke=\"#000000\"/>\n",
       "<polygon fill=\"#000000\" points=\"205.3457,-267.641 196.9876,-261.13 199.4611,-271.4321 205.3457,-267.641\" stroke=\"#000000\"/>\n",
       "<text fill=\"#000000\" font-family=\"Times,serif\" font-size=\"14.00\" text-anchor=\"middle\" x=\"191.7006\" y=\"-281.8646\">True</text>\n",
       "</g>\n",
       "<!-- 6 -->\n",
       "<g class=\"node\" id=\"node7\">\n",
       "<title>6</title>\n",
       "<polygon fill=\"#e58139\" fill-opacity=\"0.627451\" points=\"370,-261 250,-261 250,-193 370,-193 370,-261\" stroke=\"#000000\"/>\n",
       "<text fill=\"#000000\" font-family=\"Times,serif\" font-size=\"14.00\" text-anchor=\"middle\" x=\"310\" y=\"-245.8\">Pclass &lt;= 3.5</text>\n",
       "<text fill=\"#000000\" font-family=\"Times,serif\" font-size=\"14.00\" text-anchor=\"middle\" x=\"310\" y=\"-230.8\">gini = 0.395</text>\n",
       "<text fill=\"#000000\" font-family=\"Times,serif\" font-size=\"14.00\" text-anchor=\"middle\" x=\"310\" y=\"-215.8\">samples = 402</text>\n",
       "<text fill=\"#000000\" font-family=\"Times,serif\" font-size=\"14.00\" text-anchor=\"middle\" x=\"310\" y=\"-200.8\">value = [293, 109]</text>\n",
       "</g>\n",
       "<!-- 0&#45;&gt;6 -->\n",
       "<g class=\"edge\" id=\"edge6\">\n",
       "<title>0-&gt;6</title>\n",
       "<path d=\"M264.2657,-296.9465C269.9602,-288.2373 276.1552,-278.7626 282.0938,-269.6801\" fill=\"none\" stroke=\"#000000\"/>\n",
       "<polygon fill=\"#000000\" points=\"285.1411,-271.4151 287.6842,-261.13 279.2823,-267.5843 285.1411,-271.4151\" stroke=\"#000000\"/>\n",
       "<text fill=\"#000000\" font-family=\"Times,serif\" font-size=\"14.00\" text-anchor=\"middle\" x=\"292.8058\" y=\"-281.8998\">False</text>\n",
       "</g>\n",
       "<!-- 2 -->\n",
       "<g class=\"node\" id=\"node3\">\n",
       "<title>2</title>\n",
       "<polygon fill=\"#399de5\" fill-opacity=\"0.980392\" points=\"108,-157 0,-157 0,-89 108,-89 108,-157\" stroke=\"#000000\"/>\n",
       "<text fill=\"#000000\" font-family=\"Times,serif\" font-size=\"14.00\" text-anchor=\"middle\" x=\"54\" y=\"-141.8\">Age &lt;= 149.035</text>\n",
       "<text fill=\"#000000\" font-family=\"Times,serif\" font-size=\"14.00\" text-anchor=\"middle\" x=\"54\" y=\"-126.8\">gini = 0.036</text>\n",
       "<text fill=\"#000000\" font-family=\"Times,serif\" font-size=\"14.00\" text-anchor=\"middle\" x=\"54\" y=\"-111.8\">samples = 164</text>\n",
       "<text fill=\"#000000\" font-family=\"Times,serif\" font-size=\"14.00\" text-anchor=\"middle\" x=\"54\" y=\"-96.8\">value = [3, 161]</text>\n",
       "</g>\n",
       "<!-- 1&#45;&gt;2 -->\n",
       "<g class=\"edge\" id=\"edge2\">\n",
       "<title>1-&gt;2</title>\n",
       "<path d=\"M135.3801,-192.9465C124.516,-183.6088 112.6282,-173.3911 101.3765,-163.7203\" fill=\"none\" stroke=\"#000000\"/>\n",
       "<polygon fill=\"#000000\" points=\"103.5741,-160.994 93.7089,-157.13 99.0113,-166.3026 103.5741,-160.994\" stroke=\"#000000\"/>\n",
       "</g>\n",
       "<!-- 5 -->\n",
       "<g class=\"node\" id=\"node6\">\n",
       "<title>5</title>\n",
       "<polygon fill=\"#399de5\" fill-opacity=\"0.360784\" points=\"232,-149.5 126,-149.5 126,-96.5 232,-96.5 232,-149.5\" stroke=\"#000000\"/>\n",
       "<text fill=\"#000000\" font-family=\"Times,serif\" font-size=\"14.00\" text-anchor=\"middle\" x=\"179\" y=\"-134.3\">gini = 0.476</text>\n",
       "<text fill=\"#000000\" font-family=\"Times,serif\" font-size=\"14.00\" text-anchor=\"middle\" x=\"179\" y=\"-119.3\">samples = 118</text>\n",
       "<text fill=\"#000000\" font-family=\"Times,serif\" font-size=\"14.00\" text-anchor=\"middle\" x=\"179\" y=\"-104.3\">value = [46, 72]</text>\n",
       "</g>\n",
       "<!-- 1&#45;&gt;5 -->\n",
       "<g class=\"edge\" id=\"edge5\">\n",
       "<title>1-&gt;5</title>\n",
       "<path d=\"M176.3097,-192.9465C176.7207,-182.2621 177.1759,-170.4254 177.5933,-159.5742\" fill=\"none\" stroke=\"#000000\"/>\n",
       "<polygon fill=\"#000000\" points=\"181.0921,-159.6693 177.9791,-149.5422 174.0973,-159.4002 181.0921,-159.6693\" stroke=\"#000000\"/>\n",
       "</g>\n",
       "<!-- 3 -->\n",
       "<g class=\"node\" id=\"node4\">\n",
       "<title>3</title>\n",
       "<polygon fill=\"#399de5\" fill-opacity=\"0.992157\" points=\"107,-53 1,-53 1,0 107,0 107,-53\" stroke=\"#000000\"/>\n",
       "<text fill=\"#000000\" font-family=\"Times,serif\" font-size=\"14.00\" text-anchor=\"middle\" x=\"54\" y=\"-37.8\">gini = 0.014</text>\n",
       "<text fill=\"#000000\" font-family=\"Times,serif\" font-size=\"14.00\" text-anchor=\"middle\" x=\"54\" y=\"-22.8\">samples = 145</text>\n",
       "<text fill=\"#000000\" font-family=\"Times,serif\" font-size=\"14.00\" text-anchor=\"middle\" x=\"54\" y=\"-7.8\">value = [1, 144]</text>\n",
       "</g>\n",
       "<!-- 2&#45;&gt;3 -->\n",
       "<g class=\"edge\" id=\"edge3\">\n",
       "<title>2-&gt;3</title>\n",
       "<path d=\"M54,-88.9777C54,-80.7364 54,-71.887 54,-63.5153\" fill=\"none\" stroke=\"#000000\"/>\n",
       "<polygon fill=\"#000000\" points=\"57.5001,-63.2484 54,-53.2485 50.5001,-63.2485 57.5001,-63.2484\" stroke=\"#000000\"/>\n",
       "</g>\n",
       "<!-- 4 -->\n",
       "<g class=\"node\" id=\"node5\">\n",
       "<title>4</title>\n",
       "<polygon fill=\"#399de5\" fill-opacity=\"0.882353\" points=\"224.5,-53 125.5,-53 125.5,0 224.5,0 224.5,-53\" stroke=\"#000000\"/>\n",
       "<text fill=\"#000000\" font-family=\"Times,serif\" font-size=\"14.00\" text-anchor=\"middle\" x=\"175\" y=\"-37.8\">gini = 0.188</text>\n",
       "<text fill=\"#000000\" font-family=\"Times,serif\" font-size=\"14.00\" text-anchor=\"middle\" x=\"175\" y=\"-22.8\">samples = 19</text>\n",
       "<text fill=\"#000000\" font-family=\"Times,serif\" font-size=\"14.00\" text-anchor=\"middle\" x=\"175\" y=\"-7.8\">value = [2, 17]</text>\n",
       "</g>\n",
       "<!-- 2&#45;&gt;4 -->\n",
       "<g class=\"edge\" id=\"edge4\">\n",
       "<title>2-&gt;4</title>\n",
       "<path d=\"M96.6601,-88.9777C108.6011,-79.4545 121.5605,-69.1191 133.437,-59.6473\" fill=\"none\" stroke=\"#000000\"/>\n",
       "<polygon fill=\"#000000\" points=\"135.8246,-62.22 141.4605,-53.2485 131.46,-56.7473 135.8246,-62.22\" stroke=\"#000000\"/>\n",
       "</g>\n",
       "<!-- 7 -->\n",
       "<g class=\"node\" id=\"node8\">\n",
       "<title>7</title>\n",
       "<polygon fill=\"#399de5\" fill-opacity=\"0.847059\" points=\"356.5,-149.5 257.5,-149.5 257.5,-96.5 356.5,-96.5 356.5,-149.5\" stroke=\"#000000\"/>\n",
       "<text fill=\"#000000\" font-family=\"Times,serif\" font-size=\"14.00\" text-anchor=\"middle\" x=\"307\" y=\"-134.3\">gini = 0.231</text>\n",
       "<text fill=\"#000000\" font-family=\"Times,serif\" font-size=\"14.00\" text-anchor=\"middle\" x=\"307\" y=\"-119.3\">samples = 15</text>\n",
       "<text fill=\"#000000\" font-family=\"Times,serif\" font-size=\"14.00\" text-anchor=\"middle\" x=\"307\" y=\"-104.3\">value = [2, 13]</text>\n",
       "</g>\n",
       "<!-- 6&#45;&gt;7 -->\n",
       "<g class=\"edge\" id=\"edge7\">\n",
       "<title>6-&gt;7</title>\n",
       "<path d=\"M309.0177,-192.9465C308.7095,-182.2621 308.368,-170.4254 308.055,-159.5742\" fill=\"none\" stroke=\"#000000\"/>\n",
       "<polygon fill=\"#000000\" points=\"311.5526,-159.4371 307.7656,-149.5422 304.5555,-159.639 311.5526,-159.4371\" stroke=\"#000000\"/>\n",
       "</g>\n",
       "<!-- 8 -->\n",
       "<g class=\"node\" id=\"node9\">\n",
       "<title>8</title>\n",
       "<polygon fill=\"#e58139\" fill-opacity=\"0.670588\" points=\"487.5,-157 374.5,-157 374.5,-89 487.5,-89 487.5,-157\" stroke=\"#000000\"/>\n",
       "<text fill=\"#000000\" font-family=\"Times,serif\" font-size=\"14.00\" text-anchor=\"middle\" x=\"431\" y=\"-141.8\">Fare &lt;= 1.5</text>\n",
       "<text fill=\"#000000\" font-family=\"Times,serif\" font-size=\"14.00\" text-anchor=\"middle\" x=\"431\" y=\"-126.8\">gini = 0.373</text>\n",
       "<text fill=\"#000000\" font-family=\"Times,serif\" font-size=\"14.00\" text-anchor=\"middle\" x=\"431\" y=\"-111.8\">samples = 387</text>\n",
       "<text fill=\"#000000\" font-family=\"Times,serif\" font-size=\"14.00\" text-anchor=\"middle\" x=\"431\" y=\"-96.8\">value = [291, 96]</text>\n",
       "</g>\n",
       "<!-- 6&#45;&gt;8 -->\n",
       "<g class=\"edge\" id=\"edge8\">\n",
       "<title>6-&gt;8</title>\n",
       "<path d=\"M349.6199,-192.9465C360.484,-183.6088 372.3718,-173.3911 383.6235,-163.7203\" fill=\"none\" stroke=\"#000000\"/>\n",
       "<polygon fill=\"#000000\" points=\"385.9887,-166.3026 391.2911,-157.13 381.4259,-160.994 385.9887,-166.3026\" stroke=\"#000000\"/>\n",
       "</g>\n",
       "<!-- 9 -->\n",
       "<g class=\"node\" id=\"node10\">\n",
       "<title>9</title>\n",
       "<polygon fill=\"#e58139\" fill-opacity=\"0.121569\" points=\"413,-53 307,-53 307,0 413,0 413,-53\" stroke=\"#000000\"/>\n",
       "<text fill=\"#000000\" font-family=\"Times,serif\" font-size=\"14.00\" text-anchor=\"middle\" x=\"360\" y=\"-37.8\">gini = 0.498</text>\n",
       "<text fill=\"#000000\" font-family=\"Times,serif\" font-size=\"14.00\" text-anchor=\"middle\" x=\"360\" y=\"-22.8\">samples = 94</text>\n",
       "<text fill=\"#000000\" font-family=\"Times,serif\" font-size=\"14.00\" text-anchor=\"middle\" x=\"360\" y=\"-7.8\">value = [50, 44]</text>\n",
       "</g>\n",
       "<!-- 8&#45;&gt;9 -->\n",
       "<g class=\"edge\" id=\"edge9\">\n",
       "<title>8-&gt;9</title>\n",
       "<path d=\"M405.9681,-88.9777C399.4329,-80.0954 392.378,-70.5067 385.8036,-61.5711\" fill=\"none\" stroke=\"#000000\"/>\n",
       "<polygon fill=\"#000000\" points=\"388.4257,-59.229 379.6802,-53.2485 382.7874,-63.3775 388.4257,-59.229\" stroke=\"#000000\"/>\n",
       "</g>\n",
       "<!-- 10 -->\n",
       "<g class=\"node\" id=\"node11\">\n",
       "<title>10</title>\n",
       "<polygon fill=\"#e58139\" fill-opacity=\"0.784314\" points=\"544.5,-53 431.5,-53 431.5,0 544.5,0 544.5,-53\" stroke=\"#000000\"/>\n",
       "<text fill=\"#000000\" font-family=\"Times,serif\" font-size=\"14.00\" text-anchor=\"middle\" x=\"488\" y=\"-37.8\">gini = 0.292</text>\n",
       "<text fill=\"#000000\" font-family=\"Times,serif\" font-size=\"14.00\" text-anchor=\"middle\" x=\"488\" y=\"-22.8\">samples = 293</text>\n",
       "<text fill=\"#000000\" font-family=\"Times,serif\" font-size=\"14.00\" text-anchor=\"middle\" x=\"488\" y=\"-7.8\">value = [241, 52]</text>\n",
       "</g>\n",
       "<!-- 8&#45;&gt;10 -->\n",
       "<g class=\"edge\" id=\"edge10\">\n",
       "<title>8-&gt;10</title>\n",
       "<path d=\"M451.0961,-88.9777C456.2344,-80.2786 461.773,-70.9018 466.9575,-62.1247\" fill=\"none\" stroke=\"#000000\"/>\n",
       "<polygon fill=\"#000000\" points=\"470.1281,-63.6387 472.2004,-53.2485 464.101,-60.0786 470.1281,-63.6387\" stroke=\"#000000\"/>\n",
       "</g>\n",
       "</g>\n",
       "</svg>"
      ],
      "text/plain": [
       "<IPython.core.display.SVG object>"
      ]
     },
     "metadata": {},
     "output_type": "display_data"
    }
   ],
   "source": [
    "from IPython.display import SVG\n",
    "from sklearn import tree\n",
    "from graphviz import Source\n",
    "\n",
    "decTree = tree.DecisionTreeClassifier(max_depth=3, min_samples_leaf=0.01, min_samples_split=0.2, max_features=4)\n",
    "decTree.fit(X=X_r, y=y)\n",
    "\n",
    "dt_scores = cross_val_score(decTree, X_r, y, cv=10)\n",
    "display(\"Accuracy: %0.2f (+/- %0.2f)\" % (dt_scores.mean(), dt_scores.std() * 2))\n",
    "\n",
    "graph = Source(tree.export_graphviz(decTree, out_file=None, feature_names=topFeats, filled = True));\n",
    "display(SVG(graph.pipe(format='svg')))"
   ]
  },
  {
   "cell_type": "code",
   "execution_count": 61,
   "metadata": {},
   "outputs": [
    {
     "data": {
      "text/plain": [
       "'Accuracy: 0.69 (+/- 0.11)'"
      ]
     },
     "metadata": {},
     "output_type": "display_data"
    }
   ],
   "source": [
    "from sklearn.svm import LinearSVC\n",
    "\n",
    "lsvc = LinearSVC(fit_intercept=True, dual=True)\n",
    "lsvc.fit(X=X_r, y=y)\n",
    "\n",
    "lsvc_scores = cross_val_score(lsvc, X_r, y, cv=10)\n",
    "display(\"Accuracy: %0.2f (+/- %0.2f)\" % (lsvc_scores.mean(), lsvc_scores.std() * 2))"
   ]
  },
  {
   "cell_type": "code",
   "execution_count": 62,
   "metadata": {},
   "outputs": [
    {
     "data": {
      "text/plain": [
       "'Accuracy: 0.64 (+/- 0.09)'"
      ]
     },
     "metadata": {},
     "output_type": "display_data"
    }
   ],
   "source": [
    "from sklearn.neighbors import KNeighborsClassifier\n",
    "\n",
    "knc = KNeighborsClassifier(n_neighbors=2)\n",
    "knc.fit(X=X_r, y=y)\n",
    "\n",
    "knc_scores = cross_val_score(knc, X_r, y, cv=10)\n",
    "display(\"Accuracy: %0.2f (+/- %0.2f)\" % (knc_scores.mean(), knc_scores.std() * 2))"
   ]
  },
  {
   "cell_type": "code",
   "execution_count": 63,
   "metadata": {},
   "outputs": [
    {
     "data": {
      "text/plain": [
       "'Accuracy: 0.68 (+/- 0.13)'"
      ]
     },
     "metadata": {},
     "output_type": "display_data"
    }
   ],
   "source": [
    "from sklearn.svm import SVC\n",
    "\n",
    "svc = SVC(C=4)\n",
    "svc.fit(X=X_r, y=y)\n",
    "\n",
    "svc_scores = cross_val_score(svc, X_r, y, cv=10)\n",
    "display(\"Accuracy: %0.2f (+/- %0.2f)\" % (svc_scores.mean(), svc_scores.std() * 2))"
   ]
  },
  {
   "cell_type": "code",
   "execution_count": 67,
   "metadata": {},
   "outputs": [
    {
     "data": {
      "text/plain": [
       "'Accuracy: 0.77 (+/- 0.09)'"
      ]
     },
     "metadata": {},
     "output_type": "display_data"
    }
   ],
   "source": [
    "from sklearn.ensemble import RandomForestClassifier\n",
    "\n",
    "rfc = RandomForestClassifier(n_estimators=100, max_depth=3, min_samples_leaf=0.1)\n",
    "rfc.fit(X=X_r, y=y)\n",
    "\n",
    "rfc_scores = cross_val_score(rfc, X_r, y, cv=10)\n",
    "display(\"Accuracy: %0.2f (+/- %0.2f)\" % (rfc_scores.mean(), rfc_scores.std() * 2))"
   ]
  },
  {
   "cell_type": "code",
   "execution_count": 65,
   "metadata": {},
   "outputs": [],
   "source": [
    "# Create predictions on test data\n",
    "testrawset = pd.read_csv(\"./input/test.csv\")\n",
    "\n",
    "testset = prepareNominalValues(fillEstimatedAge(developFeatures(testrawset))).drop(columns=['Name', 'Ticket', 'Cabin']).iloc[:, 1:].fillna(0)\n",
    "testset = selector.transform(testset)\n",
    "\n",
    "testPrediction = decTree.predict(testset)\n",
    "\n",
    "output = testrawset.loc[:, ['PassengerId']]\n",
    "output.insert(loc=1, column='Survived', value=testPrediction)\n",
    "\n",
    "testcsv = output.to_csv(path_or_buf=r'./output/decisionTreeImproved.csv', index=False)\n"
   ]
  },
  {
   "cell_type": "code",
   "execution_count": null,
   "metadata": {},
   "outputs": [],
   "source": []
  }
 ],
 "metadata": {
  "kernelspec": {
   "display_name": "Python 3",
   "language": "python",
   "name": "python3"
  },
  "language_info": {
   "codemirror_mode": {
    "name": "ipython",
    "version": 3
   },
   "file_extension": ".py",
   "mimetype": "text/x-python",
   "name": "python",
   "nbconvert_exporter": "python",
   "pygments_lexer": "ipython3",
   "version": "3.7.3"
  }
 },
 "nbformat": 4,
 "nbformat_minor": 2
}
